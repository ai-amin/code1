{
 "cells": [
  {
   "cell_type": "code",
   "execution_count": null,
   "metadata": {},
   "outputs": [
    {
     "name": "stdout",
     "output_type": "stream",
     "text": [
      "Running: /opt/homebrew/Cellar/lammps/20230802/bin/lmp_serial -in lammps_input.in\n"
     ]
    }
   ],
   "source": [
    "from pymatgen.io.lammps.inputs import LammpsInputFile\n",
    "from pymatgen.io.lammps.utils import LammpsRunner\n",
    "import subprocess\n",
    "###\n",
    "# Define the LAMMPS input script as a string\n",
    "input_script = [\n",
    "    {\n",
    "        \"stage_name\": \"setup\",\n",
    "        \"commands\": [\n",
    "            (\"units\", \"metal\"),\n",
    "            (\"atom_style\", \"atomic\"),\n",
    "            (\"lattice\", \"fcc 4.05\"),\n",
    "            (\"region\", \"box block 0 10 0 10 0 10\"),\n",
    "            (\"create_box\", \"1 box\"),\n",
    "            (\"create_atoms\", \"1 box\"),\n",
    "            (\"mass\", \"1 1.0\"),\n",
    "            (\"pair_style\", \"lj/cut 5.0\"),\n",
    "            (\"pair_coeff\", \"1 1 1.0 1.0\"),\n",
    "            (\"neighbor\", \"0.3 bin\"),\n",
    "            (\"neigh_modify\", \"every 20 delay 0 check yes\"),\n",
    "            (\"fix\", \"1 all nve\"),\n",
    "            (\"timestep\", \"0.0001\"),\n",
    "            (\"thermo\", \"10\"),\n",
    "            (\"thermo_style\", \"custom step temp etotal pe press\"),\n",
    "            (\"run\", \"1000\"),\n",
    "        ]\n",
    "    }\n",
    "]\n",
    "\n",
    "# Create a LAMMPS input file\n",
    "input_file = LammpsInputFile(input_script)\n",
    "\n",
    "# Write the input file to a file\n",
    "with open(\"lammps_input.in\", \"w\") as f:\n",
    "    f.write(str(input_file))\n",
    "\n",
    "# Specify the path to your LAMMPS executable\n",
    "lammps_executable = \"/opt/homebrew/Cellar/lammps/20230802/bin/lmp_serial\"\n",
    "\n",
    "# Run the LAMMPS simulation\n",
    "# Create a LammpsRunner object\n",
    "lammps_io = LammpsRunner(\"lammps_input.in\",lammps_executable)\n",
    "# Run the LAMMPS simulation with the input file\n",
    "lammps_io.run()\n",
    "#subprocess.run([lammps_executable, \"-in\", \"lammps_input.in\"])\n",
    "\n",
    "# Now the LAMMPS simulation will run using the input file\n",
    "\n",
    "# Open the LAMMPS log file\n",
    "log_file = 'log.lammps'\n",
    "\n",
    "with open(log_file, 'r') as file:\n",
    "    lines = file.readlines()\n",
    "\n",
    "# Initialize lists to store data\n",
    "step = []\n",
    "temperature = []\n",
    "total_energy = []\n",
    "potential_energy = []\n",
    "pressure = []\n",
    "\n",
    "# Extract data from the log file\n",
    "for line in lines:\n",
    "    if line.startswith('Step '):\n",
    "        data = line.split()\n",
    "        step.append(int(data[1]))\n",
    "        temperature.append(float(data[3]))\n",
    "        total_energy.append(float(data[5]))\n",
    "        potential_energy.append(float(data[7]))\n",
    "        pressure.append(float(data[9]))"
   ]
  },
  {
   "cell_type": "code",
   "execution_count": null,
   "metadata": {},
   "outputs": [
    {
     "name": "stdout",
     "output_type": "stream",
     "text": [
      "Running: /opt/homebrew/Cellar/lammps/20230802/bin/lmp_serial -in lammps_input.in\n"
     ]
    },
    {
     "data": {
      "text/plain": [
       "(b'LAMMPS (2 Aug 2023)\\nLattice spacing in x,y,z = 4.05 4.05 4.05\\nCreated orthogonal box = (0 0 0) to (40.5 40.5 40.5)\\n  1 by 1 by 1 MPI processor grid\\nCreated 4000 atoms\\n  using lattice units in orthogonal box = (0 0 0) to (40.5 40.5 40.5)\\n  create_atoms CPU = 0.000 seconds\\nGenerated 0 of 0 mixed pair_coeff terms from geometric mixing rule\\nNeighbor list info ...\\n  update: every = 20 steps, delay = 0 steps, check = yes\\n  max neighbors/atom: 2000, page size: 100000\\n  master list distance cutoff = 5.3\\n  ghost atom cutoff = 5.3\\n  binsize = 2.65, bins = 16 16 16\\n  1 neighbor lists, perpetual/occasional/extra = 1 0 0\\n  (1) pair lj/cut, perpetual\\n      attributes: half, newton on\\n      pair build: half/bin/atomonly/newton\\n      stencil: half/bin/3d\\n      bin: standard\\nSetting up Verlet run ...\\n  Unit style    : metal\\n  Current step  : 0\\n  Time step     : 0.0001\\nPer MPI rank memory allocation (min/avg/max) = 3.264 | 3.264 | 3.264 Mbytes\\n   Step          Temp          TotEng         PotEng         Press     \\n         0   0             -197.48233     -197.48233     -9510.4665    \\n        10   4.4779875e-30 -197.48233     -197.48233     -9510.4665    \\n        20   1.791195e-29  -197.48233     -197.48233     -9510.4665    \\n        30   4.0301888e-29 -197.48233     -197.48233     -9510.4665    \\n        40   7.16478e-29   -197.48233     -197.48233     -9510.4665    \\n        50   1.1194969e-28 -197.48233     -197.48233     -9510.4665    \\n        60   1.6120755e-28 -197.48233     -197.48233     -9510.4665    \\n        70   2.1942139e-28 -197.48233     -197.48233     -9510.4665    \\n        80   2.8659118e-28 -197.48233     -197.48233     -9510.4665    \\n        90   3.6271694e-28 -197.48233     -197.48233     -9510.4665    \\n       100   4.4779865e-28 -197.48233     -197.48233     -9510.4665    \\n       110   5.4183627e-28 -197.48233     -197.48233     -9510.4665    \\n       120   6.4482984e-28 -197.48233     -197.48233     -9510.4665    \\n       130   7.5677943e-28 -197.48233     -197.48233     -9510.4665    \\n       140   8.7768503e-28 -197.48233     -197.48233     -9510.4665    \\n       150   1.0075466e-27 -197.48233     -197.48233     -9510.4665    \\n       160   1.146364e-27  -197.48233     -197.48233     -9510.4665    \\n       170   1.2941372e-27 -197.48233     -197.48233     -9510.4665    \\n       180   1.4508663e-27 -197.48233     -197.48233     -9510.4665    \\n       190   1.6165513e-27 -197.48233     -197.48233     -9510.4665    \\n       200   1.7911924e-27 -197.48233     -197.48233     -9510.4665    \\n       210   1.9747894e-27 -197.48233     -197.48233     -9510.4665    \\n       220   2.1673424e-27 -197.48233     -197.48233     -9510.4665    \\n       230   2.368851e-27  -197.48233     -197.48233     -9510.4665    \\n       240   2.5793295e-27 -197.48233     -197.48233     -9510.4665    \\n       250   2.7988657e-27 -197.48233     -197.48233     -9510.4665    \\n       260   3.0276258e-27 -197.48233     -197.48233     -9510.4665    \\n       270   3.2657054e-27 -197.48233     -197.48233     -9510.4665    \\n       280   3.5130183e-27 -197.48233     -197.48233     -9510.4665    \\n       290   3.7694284e-27 -197.48233     -197.48233     -9510.4665    \\n       300   4.0349241e-27 -197.48233     -197.48233     -9510.4665    \\n       310   4.3094901e-27 -197.48233     -197.48233     -9510.4665    \\n       320   4.5931477e-27 -197.48233     -197.48233     -9510.4665    \\n       330   4.8858619e-27 -197.48233     -197.48233     -9510.4665    \\n       340   5.1876368e-27 -197.48233     -197.48233     -9510.4665    \\n       350   5.4984759e-27 -197.48233     -197.48233     -9510.4665    \\n       360   5.8183865e-27 -197.48233     -197.48233     -9510.4665    \\n       370   6.1473788e-27 -197.48233     -197.48233     -9510.4665    \\n       380   6.4854453e-27 -197.48233     -197.48233     -9510.4665    \\n       390   6.8325839e-27 -197.48233     -197.48233     -9510.4665    \\n       400   7.1888319e-27 -197.48233     -197.48233     -9510.4665    \\n       410   7.5542746e-27 -197.48233     -197.48233     -9510.4665    \\n       420   7.9293682e-27 -197.48233     -197.48233     -9510.4665    \\n       430   8.3141204e-27 -197.48233     -197.48233     -9510.4665    \\n       440   8.708887e-27  -197.48233     -197.48233     -9510.4665    \\n       450   9.1132154e-27 -197.48233     -197.48233     -9510.4665    \\n       460   9.5273258e-27 -197.48233     -197.48233     -9510.4665    \\n       470   9.9508612e-27 -197.48233     -197.48233     -9510.4665    \\n       480   1.0383754e-26 -197.48233     -197.48233     -9510.4665    \\n       490   1.0826054e-26 -197.48233     -197.48233     -9510.4665    \\n       500   1.12777e-26   -197.48233     -197.48233     -9510.4665    \\n       510   1.1738803e-26 -197.48233     -197.48233     -9510.4665    \\n       520   1.2209867e-26 -197.48233     -197.48233     -9510.4665    \\n       530   1.2690995e-26 -197.48233     -197.48233     -9510.4665    \\n       540   1.3182507e-26 -197.48233     -197.48233     -9510.4665    \\n       550   1.3684433e-26 -197.48233     -197.48233     -9510.4665    \\n       560   1.4196143e-26 -197.48233     -197.48233     -9510.4665    \\n       570   1.4718065e-26 -197.48233     -197.48233     -9510.4665    \\n       580   1.5249935e-26 -197.48233     -197.48233     -9510.4665    \\n       590   1.5791592e-26 -197.48233     -197.48233     -9510.4665    \\n       600   1.6343376e-26 -197.48233     -197.48233     -9510.4665    \\n       610   1.69054e-26   -197.48233     -197.48233     -9510.4665    \\n       620   1.7477805e-26 -197.48233     -197.48233     -9510.4665    \\n       630   1.8060581e-26 -197.48233     -197.48233     -9510.4665    \\n       640   1.8653439e-26 -197.48233     -197.48233     -9510.4665    \\n       650   1.9256785e-26 -197.48233     -197.48233     -9510.4665    \\n       660   1.9870839e-26 -197.48233     -197.48233     -9510.4665    \\n       670   2.0495591e-26 -197.48233     -197.48233     -9510.4665    \\n       680   2.1131227e-26 -197.48233     -197.48233     -9510.4665    \\n       690   2.1777912e-26 -197.48233     -197.48233     -9510.4665    \\n       700   2.2435232e-26 -197.48233     -197.48233     -9510.4665    \\n       710   2.3103612e-26 -197.48233     -197.48233     -9510.4665    \\n       720   2.3783341e-26 -197.48233     -197.48233     -9510.4665    \\n       730   2.4474192e-26 -197.48233     -197.48233     -9510.4665    \\n       740   2.5176701e-26 -197.48233     -197.48233     -9510.4665    \\n       750   2.589059e-26  -197.48233     -197.48233     -9510.4665    \\n       760   2.6616202e-26 -197.48233     -197.48233     -9510.4665    \\n       770   2.7354096e-26 -197.48233     -197.48233     -9510.4665    \\n       780   2.8104593e-26 -197.48233     -197.48233     -9510.4665    \\n       790   2.8868994e-26 -197.48233     -197.48233     -9510.4665    \\n       800   2.9651033e-26 -197.48233     -197.48233     -9510.4665    \\n       810   3.0454226e-26 -197.48233     -197.48233     -9510.4665    \\n       820   3.1282121e-26 -197.48233     -197.48233     -9510.4665    \\n       830   3.2135712e-26 -197.48233     -197.48233     -9510.4665    \\n       840   3.3016812e-26 -197.48233     -197.48233     -9510.4665    \\n       850   3.3934637e-26 -197.48233     -197.48233     -9510.4665    \\n       860   3.4887757e-26 -197.48233     -197.48233     -9510.4665    \\n       870   3.5875972e-26 -197.48233     -197.48233     -9510.4665    \\n       880   3.6908312e-26 -197.48233     -197.48233     -9510.4665    \\n       890   3.7978052e-26 -197.48233     -197.48233     -9510.4665    \\n       900   3.9081101e-26 -197.48233     -197.48233     -9510.4665    \\n       910   4.0228727e-26 -197.48233     -197.48233     -9510.4665    \\n       920   4.141591e-26  -197.48233     -197.48233     -9510.4665    \\n       930   4.2635976e-26 -197.48233     -197.48233     -9510.4665    \\n       940   4.3891984e-26 -197.48233     -197.48233     -9510.4665    \\n       950   4.5188162e-26 -197.48233     -197.48233     -9510.4665    \\n       960   4.6518855e-26 -197.48233     -197.48233     -9510.4665    \\n       970   4.7881859e-26 -197.48233     -197.48233     -9510.4665    \\n       980   4.9278698e-26 -197.48233     -197.48233     -9510.4665    \\n       990   5.0710956e-26 -197.48233     -197.48233     -9510.4665    \\n      1000   5.2178736e-26 -197.48233     -197.48233     -9510.4665    \\nLoop time of 0.697151 on 1 procs for 1000 steps with 4000 atoms\\n\\nPerformance: 12.393 ns/day, 1.937 hours/ns, 1434.409 timesteps/s, 5.738 Matom-step/s\\n98.6% CPU use with 1 MPI tasks x no OpenMP threads\\n\\nMPI task timing breakdown:\\nSection |  min time  |  avg time  |  max time  |%varavg| %total\\n---------------------------------------------------------------\\nPair    | 0.65266    | 0.65266    | 0.65266    |   0.0 | 93.62\\nNeigh   | 0          | 0          | 0          |   0.0 |  0.00\\nComm    | 0.013802   | 0.013802   | 0.013802   |   0.0 |  1.98\\nOutput  | 0.0010785  | 0.0010785  | 0.0010785  |   0.0 |  0.15\\nModify  | 0.027778   | 0.027778   | 0.027778   |   0.0 |  3.98\\nOther   |            | 0.001835   |            |       |  0.26\\n\\nNlocal:           4000 ave        4000 max        4000 min\\nHistogram: 1 0 0 0 0 0 0 0 0 0\\nNghost:           3813 ave        3813 max        3813 min\\nHistogram: 1 0 0 0 0 0 0 0 0 0\\nNeighs:          84000 ave       84000 max       84000 min\\nHistogram: 1 0 0 0 0 0 0 0 0 0\\n\\nTotal # of neighbors = 84000\\nAve neighs/atom = 21\\nNeighbor list builds = 0\\nDangerous builds = 0\\nTotal wall time: 0:00:00\\n',\n",
       " b'')"
      ]
     },
     "execution_count": 112,
     "metadata": {},
     "output_type": "execute_result"
    }
   ],
   "source": [
    "from pymatgen.io.lammps.inputs import LammpsInputFile\n",
    "from pymatgen.io.lammps.utils import LammpsRunner\n",
    "import subprocess\n",
    "\n",
    "# Define the LAMMPS input script as a string\n",
    "input_script = [\n",
    "    {\n",
    "        \"stage_name\": \"setup\",\n",
    "        \"commands\": [\n",
    "            (\"units\", \"metal\"),\n",
    "            (\"atom_style\", \"atomic\"),\n",
    "            (\"lattice\", \"fcc 4.05\"),\n",
    "            (\"region\", \"box block 0 10 0 10 0 10\"),\n",
    "            (\"create_box\", \"1 box\"),\n",
    "            (\"create_atoms\", \"1 box\"),\n",
    "            (\"mass\", \"1 1.0\"),\n",
    "            (\"pair_style\", \"lj/cut 5.0\"),\n",
    "            (\"pair_coeff\", \"1 1 1.0 1.0\"),\n",
    "            (\"neighbor\", \"0.3 bin\"),\n",
    "            (\"neigh_modify\", \"every 20 delay 0 check yes\"),\n",
    "            (\"fix\", \"1 all nve\"),\n",
    "            (\"timestep\", \"0.0001\"),\n",
    "            (\"thermo\", \"10\"),\n",
    "            (\"thermo_style\", \"custom step temp etotal pe press\"),\n",
    "            (\"run\", \"1000\"),\n",
    "        ]\n",
    "    }\n",
    "]\n",
    "\n",
    "# Create a LAMMPS input file\n",
    "input_file = LammpsInputFile(input_script)\n",
    "\n",
    "# Write the input file to a file\n",
    "with open(\"lammps_input.in\", \"w\") as f:\n",
    "    f.write(str(input_file))\n",
    "\n",
    "# Specify the path to your LAMMPS executable\n",
    "lammps_executable = \"/opt/homebrew/Cellar/lammps/20230802/bin/lmp_serial\"\n",
    "\n",
    "# Run the LAMMPS simulation\n",
    "# Create a LammpsRunner object\n",
    "lammps_io = LammpsRunner(\"lammps_input.in\",lammps_executable)\n",
    "# Run the LAMMPS simulation with the input file\n",
    "lammps_io.run()\n",
    "#subprocess.run([lammps_executable, \"-in\", \"lammps_input.in\"])\n",
    "\n",
    "# Now the LAMMPS simulation will run using the input file"
   ]
  },
  {
   "cell_type": "code",
   "execution_count": null,
   "metadata": {},
   "outputs": [
    {
     "name": "stdout",
     "output_type": "stream",
     "text": [
      "Running: /opt/homebrew/Cellar/lammps/20230802/bin/lmp_serial -in lammps.in\n"
     ]
    },
    {
     "ename": "TypeError",
     "evalue": "expected str, bytes or os.PathLike object, not Structure",
     "output_type": "error",
     "traceback": [
      "\u001b[0;31m---------------------------------------------------------------------------\u001b[0m",
      "\u001b[0;31mTypeError\u001b[0m                                 Traceback (most recent call last)",
      "\u001b[1;32m/opt/homebrew/Cellar/lammps/20230802/bin/Untitled-1.ipynb Cell 11\u001b[0m line \u001b[0;36m6\n\u001b[1;32m     <a href='vscode-notebook-cell:/opt/homebrew/Cellar/lammps/20230802/bin/Untitled-1.ipynb#X20sZmlsZQ%3D%3D?line=60'>61</a>\u001b[0m minimization_set \u001b[39m=\u001b[39m LammpsMinimization(structure, force_field\u001b[39m=\u001b[39mforce_field)\n\u001b[1;32m     <a href='vscode-notebook-cell:/opt/homebrew/Cellar/lammps/20230802/bin/Untitled-1.ipynb#X20sZmlsZQ%3D%3D?line=61'>62</a>\u001b[0m \u001b[39m# Get the input set for the structure\u001b[39;00m\n\u001b[0;32m---> <a href='vscode-notebook-cell:/opt/homebrew/Cellar/lammps/20230802/bin/Untitled-1.ipynb#X20sZmlsZQ%3D%3D?line=62'>63</a>\u001b[0m input_set \u001b[39m=\u001b[39m minimization_set\u001b[39m.\u001b[39mget_input_set(structure)\n\u001b[1;32m     <a href='vscode-notebook-cell:/opt/homebrew/Cellar/lammps/20230802/bin/Untitled-1.ipynb#X20sZmlsZQ%3D%3D?line=64'>65</a>\u001b[0m \u001b[39m# Write the input files\u001b[39;00m\n\u001b[1;32m     <a href='vscode-notebook-cell:/opt/homebrew/Cellar/lammps/20230802/bin/Untitled-1.ipynb#X20sZmlsZQ%3D%3D?line=65'>66</a>\u001b[0m \u001b[39mprint\u001b[39m(minimization_set)\n",
      "File \u001b[0;32m~/anaconda3/lib/python3.11/site-packages/pymatgen/io/lammps/generators.py:72\u001b[0m, in \u001b[0;36mBaseLammpsGenerator.get_input_set\u001b[0;34m(self, structure)\u001b[0m\n\u001b[1;32m     69\u001b[0m data \u001b[39m=\u001b[39m LammpsData\u001b[39m.\u001b[39mfrom_structure(structure) \u001b[39mif\u001b[39;00m \u001b[39misinstance\u001b[39m(structure, Structure) \u001b[39melse\u001b[39;00m structure\n\u001b[1;32m     71\u001b[0m \u001b[39m# Load the template\u001b[39;00m\n\u001b[0;32m---> 72\u001b[0m \u001b[39mwith\u001b[39;00m zopen(\u001b[39mself\u001b[39m\u001b[39m.\u001b[39mtemplate, \u001b[39m\"\u001b[39m\u001b[39mr\u001b[39m\u001b[39m\"\u001b[39m) \u001b[39mas\u001b[39;00m f:\n\u001b[1;32m     73\u001b[0m     template_str \u001b[39m=\u001b[39m f\u001b[39m.\u001b[39mread()\n\u001b[1;32m     75\u001b[0m \u001b[39m# Replace all variables\u001b[39;00m\n",
      "File \u001b[0;32m~/anaconda3/lib/python3.11/site-packages/monty/io.py:37\u001b[0m, in \u001b[0;36mzopen\u001b[0;34m(filename, *args, **kwargs)\u001b[0m\n\u001b[1;32m     34\u001b[0m \u001b[39mif\u001b[39;00m Path \u001b[39mis\u001b[39;00m \u001b[39mnot\u001b[39;00m \u001b[39mNone\u001b[39;00m \u001b[39mand\u001b[39;00m \u001b[39misinstance\u001b[39m(filename, Path):\n\u001b[1;32m     35\u001b[0m     filename \u001b[39m=\u001b[39m \u001b[39mstr\u001b[39m(filename)\n\u001b[0;32m---> 37\u001b[0m name, ext \u001b[39m=\u001b[39m os\u001b[39m.\u001b[39mpath\u001b[39m.\u001b[39msplitext(filename)\n\u001b[1;32m     38\u001b[0m ext \u001b[39m=\u001b[39m ext\u001b[39m.\u001b[39mupper()\n\u001b[1;32m     39\u001b[0m \u001b[39mif\u001b[39;00m ext \u001b[39m==\u001b[39m \u001b[39m\"\u001b[39m\u001b[39m.BZ2\u001b[39m\u001b[39m\"\u001b[39m:\n",
      "File \u001b[0;32m<frozen posixpath>:118\u001b[0m, in \u001b[0;36msplitext\u001b[0;34m(p)\u001b[0m\n",
      "\u001b[0;31mTypeError\u001b[0m: expected str, bytes or os.PathLike object, not Structure"
     ]
    }
   ],
   "source": [
    "from pymatgen.core.structure import Structure, Lattice\n",
    "from pymatgen.io.lammps.inputs import LammpsInputFile, LammpsRun\n",
    "from pymatgen.io.lammps.utils import LammpsRunner\n",
    "from pymatgen.io.lammps.generators import LammpsMinimization\n",
    "from mp_api.client import MPRester\n",
    "from matminer.datasets import load_dataset\n",
    "import crystal_toolkit \n",
    "\n",
    "with MPRester(\"qntWmNDDQwcytAmE3zjs0Ps2UTSi0xRi\") as mpr :\n",
    "    criteria = {'elements': {'$in': ['Al']}, 'nelements': 2, 'spacegroup.number': 225}\n",
    "    properties = ['pretty_formula', 'spacegroup.number', 'cif', 'structure']\n",
    "   # shortc= (mpr.summary.search (criteria=criteria, properties=properties)) \n",
    "    docs = mpr.summary.search(num_elements=1) \n",
    "   \n",
    "dfc = pd. DataFrame(docs)\n",
    "dfc\n",
    "\n",
    "\n",
    "# Define the LAMMPS input script as a string\n",
    "input_script = [\n",
    "    {\n",
    "        \"stage_name\": \"setup\",\n",
    "        \"commands\": [\n",
    "            (\"units\", \"metal\"),\n",
    "            (\"atom_style\", \"atomic\"),\n",
    "            (\"lattice\", \"fcc 4.05\"),\n",
    "            (\"region\", \"box block 0 10 0 10 0 10\"),\n",
    "            (\"create_box\", \"1 box\"),\n",
    "            (\"create_atoms\", \"1 box\"),\n",
    "            (\"mass\", \"1 1.0\"),\n",
    "            (\"pair_style\", \"lj/cut 5.0\"),\n",
    "            (\"pair_coeff\", \"1 1 1.0 1.0\"),\n",
    "            (\"neighbor\", \"0.3 bin\"),\n",
    "            (\"neigh_modify\", \"every 20 delay 0 check yes\"),\n",
    "            (\"fix\", \"1 all nve\"),\n",
    "            (\"timestep\", \"0.0001\"),\n",
    "            (\"thermo\", \"10\"),\n",
    "            (\"thermo_style\", \"custom step temp etotal pe press\"),\n",
    "            (\"run\", \"1000\"),\n",
    "        ]\n",
    "    }\n",
    "]\n",
    "# Create a LAMMPS input object\n",
    "input_obj = LammpsInputFile(input_script)\n",
    "\n",
    "# Specify the path to your LAMMPS executable\n",
    "lammps_executable = \"/opt/homebrew/Cellar/lammps/20230802/bin/lmp_serial\"\n",
    "\n",
    "# Specify the path to the LAMMPS input file\n",
    "input_filename = \"lammps.in\"\n",
    "\n",
    "# Create a LammpsRunner object\n",
    "lammps_run = LammpsRun(settings={}, data={}, script_template=input_obj, script_filename=input_filename)\n",
    "\n",
    "# Write the input file to a file\n",
    "with open(input_filename, \"w\") as f:\n",
    "    f.write(str(input_obj))\n",
    "\n",
    "# Run the LAMMPS simulation\n",
    "#lammps_runner.run\n",
    "# Run the LAMMPS simulation\n",
    "\n",
    "lammps_runner = LammpsRunner(input_filename, lammps_executable)\n",
    "lammps_runner.run()\n",
    "\n",
    "\n",
    "# Specify the force field\n",
    "force_field = {\"pair_style\": \"lj/cut 5.0\",\n",
    "               \"pair_coeff\": [\"* * 0.1 0.1 0.1\"]}\n",
    "# Create a LAMMPS minimization input set\n",
    "lattice = Lattice.cubic(4.2)\n",
    "structure = Structure(lattice, [\"Cs\", \"Cl\"], [[0, 0, 0], [0.5, 0.5, 0.5]])\n",
    "minimization_set = LammpsMinimization(structure, force_field=force_field)\n",
    "# Get the input set for the structure\n",
    "input_set = minimization_set.get_input_set(structure)\n",
    "\n",
    "# Write the input files\n",
    "print(minimization_set)\n",
    "# Get the potential energy, temperature, and pressure from the output\n",
    "#output = lammps_runner.output[-1]\n",
    "###potential_energy = output[\"pe\"]\n",
    "#temperature = output[\"temp\"]\n",
    "#pressure = output[\"press\"]\n",
    "\n",
    "# Calculate the Gibbs free energy\n",
    "#G = potential_energy + pressure * volume - temperature * entropy\n",
    "\n",
    "# Print the Gibbs free energy\n",
    "#print(\"Gibbs free energy: {:.2f} eV\".format(G))"
   ]
  },
  {
   "cell_type": "code",
   "execution_count": 2,
   "metadata": {},
   "outputs": [],
   "source": [
    "from pymatgen.core import Structure\n",
    "from pymatgen.vis.structure_chemview import quick_view\n",
    "\n",
    "# Create a simple crystal structure (you can replace this with your own structure)\n",
    "structure = Structure(\n",
    "    lattice=[[3.0, 0.0, 0.0], [0.0, 3.0, 0.0], [0.0, 0.0, 3.0]],\n",
    "    species=[\"Li\", \"Li\", \"O\"],\n",
    "    coords=[[0, 0, 0], [0.5, 0.5, 0.5], [0.3, 0.3, 0.3]]\n",
    ")\n",
    "\n",
    "# Initialize the StructurePlotter\n",
    "\n",
    "plotter = quick_view(structure, bonds=True, conventional=False, show_box=True, bond_tol=0.2, stick_radius=0.1)\n",
    "\n",
    "\n",
    "#plotter.show()\n",
    "# Show the 3D visualization\n",
    "#plotter.show()"
   ]
  },
  {
   "cell_type": "code",
   "execution_count": 5,
   "metadata": {},
   "outputs": [
    {
     "name": "stderr",
     "output_type": "stream",
     "text": [
      "/Users/imanghamarian/anaconda3/lib/python3.11/site-packages/mp_api/client/mprester.py:227: UserWarning: mpcontribs-client not installed. Install the package to query MPContribs data, or construct pourbaix diagrams: 'pip install mpcontribs-client'\n",
      "  warnings.warn(\n",
      "/var/folders/6j/dx0q3r9n76g44m02wmqqd3zm0000gr/T/ipykernel_62750/1902131092.py:9: DeprecationWarning: Accessing summary data through MPRester.summary is deprecated. Please use MPRester.materials.summary instead.\n",
      "  docs = mpr.summary.search(elements=[\"C\"],num_elements=[1,1],\n"
     ]
    },
    {
     "data": {
      "application/vnd.jupyter.widget-view+json": {
       "model_id": "252257e34d2346fb8a09a41f7db602db",
       "version_major": 2,
       "version_minor": 0
      },
      "text/plain": [
       "Retrieving SummaryDoc documents:   0%|          | 0/62 [00:00<?, ?it/s]"
      ]
     },
     "metadata": {},
     "output_type": "display_data"
    },
    {
     "name": "stdout",
     "output_type": "stream",
     "text": [
      "[MPID(mp-48), MPID(mp-568410), MPID(mp-1182029), MPID(mp-680372), MPID(mp-570002), MPID(mp-611426), MPID(mp-624889), MPID(mp-1190171), MPID(mp-1192619), MPID(mp-998866), MPID(mp-568806), MPID(mp-1244964), MPID(mp-606949), MPID(mp-569416), MPID(mp-1095534), MPID(mp-1182684), MPID(mp-731594), MPID(mp-723638), MPID(mp-683919), MPID(mp-1056957), MPID(mp-66), MPID(mp-568028), MPID(mp-667273), MPID(mp-1196857), MPID(mp-569567), MPID(mp-1095633), MPID(mp-24), MPID(mp-1040425), MPID(mp-1196583), MPID(mp-630227), MPID(mp-1188817), MPID(mp-1008374), MPID(mp-616440), MPID(mp-2646980), MPID(mp-990424), MPID(mp-569304), MPID(mp-1244913), MPID(mp-1245190), MPID(mp-1181996), MPID(mp-611448), MPID(mp-1096869), MPID(mp-568286), MPID(mp-568363), MPID(mp-1097832), MPID(mp-2516584), MPID(mp-579909), MPID(mp-1018088), MPID(mp-1205417), MPID(mp-1078845), MPID(mp-990448), MPID(mp-47), MPID(mp-169), MPID(mp-1080826), MPID(mp-997182), MPID(mp-2647017), MPID(mp-632329), MPID(mp-569517), MPID(mp-937760), MPID(mp-1205283), MPID(mp-1197903), MPID(mp-1008395), MPID(mp-1147718)]\n",
      "   material_id  energy_per_atom  \\\n",
      "0        mp-48        -9.220297   \n",
      "1    mp-568410        -8.719778   \n",
      "2   mp-1182029        -8.226256   \n",
      "3    mp-680372        -8.819516   \n",
      "4    mp-570002        -8.463125   \n",
      "..         ...              ...   \n",
      "57   mp-937760        -9.222609   \n",
      "58  mp-1205283        -8.529363   \n",
      "59  mp-1197903        -7.818166   \n",
      "60  mp-1008395        -8.893584   \n",
      "61  mp-1147718        -8.839973   \n",
      "\n",
      "                                            structure  \n",
      "0   [[0.         0.         1.95076825] C, [0.    ...  \n",
      "1   [[0.14653681 3.10120996 1.35517441] C, [3.0543...  \n",
      "2   [[3.27317792 2.84431992 2.8443199 ] C, [1.4512...  \n",
      "3   [[ 7.27188814  0.29808751 12.10665297] C, [2.8...  \n",
      "4   [[-0.64323791  1.11412066 -0.45483801] C, [1.3...  \n",
      "..                                                ...  \n",
      "57  [[ 1.22804797 -0.35470653  5.40245766] C, [1.2...  \n",
      "58  [[-3.78403937 -2.28058848 -4.52526148] C, [-9....  \n",
      "59  [[0.89207355 4.36014687 0.11331792] C, [-0.620...  \n",
      "60  [[-1.39216209 -1.39216209 -1.24800322] C, [-0....  \n",
      "61  [[3.86877273 1.65460602 6.8481418 ] C, [3.8687...  \n",
      "\n",
      "[62 rows x 3 columns]\n"
     ]
    },
    {
     "data": {
      "application/vnd.jupyter.widget-view+json": {
       "model_id": "abb073ebf4474674b495c3d6895faf67",
       "version_major": 2,
       "version_minor": 0
      },
      "text/plain": [
       "XRDPowderPattern:   0%|          | 0/62 [00:00<?, ?it/s]"
      ]
     },
     "metadata": {},
     "output_type": "display_data"
    },
    {
     "name": "stdout",
     "output_type": "stream",
     "text": [
      "training RMSE = 0.231 eV/atom\n"
     ]
    },
    {
     "data": {
      "image/png": "[encoded data removed]",
      "text/plain": [
       "<Figure size 640x480 with 1 Axes>"
      ]
     },
     "metadata": {},
     "output_type": "display_data"
    }
   ],
   "source": [
    "from mp_api.client import MPRester\n",
    "import pandas as pd\n",
    "import numpy as np\n",
    "from matminer.featurizers.structure import XRDPowderPattern\n",
    "from sklearn.ensemble import RandomForestRegressor\n",
    "import matplotlib.pyplot as plt\n",
    "\n",
    "with MPRester(\"qntWmNDDQwcytAmE3zjs0Ps2UTSi0xRi\") as mpr:\n",
    "    docs = mpr.summary.search(elements=[\"C\"],num_elements=[1,1],\n",
    "                               fields=[\"material_id\", \n",
    "                                      \"energy_per_atom\", \n",
    "                                      \"structure\"])\n",
    "mpids = [doc.material_id for doc in docs]\n",
    "print(mpids)\n",
    "mpepa = [doc.energy_per_atom for doc in docs]\n",
    "mpstruc = [doc.structure for doc in docs]\n",
    "\"\"\"\n",
    "\n",
    "with MPRester(\"your_api_key_here\") as mpr:\n",
    "    docs = mpr.summary.search(has_props=[\"dielectric\", \"dos\"], \n",
    "                              fields=[\"material_id\"])\n",
    "\n",
    "with MPRester(\"your_api_key_here\") as mpr:\n",
    "    docs = mpr.summary.search(material_ids=[\"mp-149\", \"mp-13\", \"mp-22526\"])\n",
    "\"\"\"\n",
    "\"\"\"\"\n",
    "with MPRester(\"qntWmNDDQwcytAmE3zjs0Ps2UTSi0xRi\") as mpr:\n",
    "        docs = mpr.materials.search(elements=[\"Si\", \"O\"], \n",
    "                                \n",
    "                                fields=[\"initial_structures\"])\n",
    "\"\"\"\"\"\n",
    "\"\"\"\n",
    "from mp_api.client import MPRester\n",
    "\n",
    "with MPRester(\"qntWmNDDQwcytAmE3zjs0Ps2UTSi0xRi\") as mpr:\n",
    "    docs = mpr.summary.search(\n",
    "        chemsys=\"Si-O\",elastic_anisotropy=[1,6] , fields=[\"material_id\", \"band_gap\"]\n",
    "    )\n",
    "    mpid_bgap_dict = {doc.material_id: doc.band_gap for doc in docs}\n",
    "\"\"\"\n",
    "dfc = pd.DataFrame({'material_id': mpids, 'energy_per_atom': mpepa, 'structure': mpstruc})\n",
    "print(dfc)\n",
    "\n",
    "xrd = XRDPowderPattern()\n",
    "#This line returns the labels of the features that /\n",
    "# the XRDPowderPattern featurizer generates.\n",
    "xrd.feature_labels()\n",
    "#This line applies the XRDPowderPattern featurizer to /\n",
    "# the 'structure' column of the DataFrame dfc, adding new columns for each feature.\n",
    "dfc = xrd.featurize_dataframe (dfc, \"structure\")\n",
    "y = dfc['energy_per_atom'].values\n",
    "\n",
    "x = dfc.drop([\"material_id\", \"energy_per_atom\", \"structure\"], axis=1)\n",
    "\n",
    "rf = RandomForestRegressor(n_estimators=100, max_depth=10, random_state=42)\n",
    "rf.fit(x, y) \n",
    "\n",
    "y_pred =rf.predict(x)\n",
    "plt.plot(y,'ro')\n",
    "plt.plot(y_pred,'bo')\n",
    "from sklearn.metrics import mean_squared_error\n",
    "print('training RMSE = {:.3f} eV/atom'.format(np.sqrt(mean_squared_error(y, y_pred))))\n"
   ]
  },
  {
   "cell_type": "code",
   "execution_count": 131,
   "metadata": {},
   "outputs": [
    {
     "name": "stdout",
     "output_type": "stream",
     "text": [
      "None\n"
     ]
    }
   ],
   "source": [
    "from pymatgen.core import Structure, Lattice\n",
    "from pymatgen.analysis.quasiharmonic import QuasiharmonicDebyeApprox\n",
    "\n",
    "# Define a simple cubic structure for Silicon\n",
    "lattice = Lattice.cubic(5.866)\n",
    "structure = Structure(lattice, [\"Si\", \"Si\"], [[0, 0, 0], [0.5, 0.5, 0.5]])\n",
    "\n",
    "# Create a QuasiharmonicDebyeApprox object\n",
    "qhda = QuasiharmonicDebyeApprox(energies=[-15, -20, -18, -16, -14], volumes=[5, 10, 15, 20, 25], structure=structure, \n",
    "                                t_min=300, t_max=1000, t_step=100, eos='vinet', pressure=0.0, poisson=0.25, \n",
    "                                use_mie_gruneisen=False, anharmonic_contribution=False)\n",
    "\n",
    "# Optimize the Gibbs free energy\n",
    "xx= qhda.optimize_gibbs_free_energy()\n",
    "nn=qhda.optimizer\n",
    "print(xx)"
   ]
  },
  {
   "cell_type": "code",
   "execution_count": 151,
   "metadata": {},
   "outputs": [],
   "source": [
    "from matminer.datasets import get_available_datasets\n",
    "from matminer.datasets import get_all_dataset_info\n",
    "#get_available_datasets()\n",
    "from matminer.datasets import load_dataset\n",
    "df = load_dataset(\"dielectric_constant\")\n",
    "#print(get_all_dataset_info(\"dielectric_constant\"))\n",
    "df.head()\n",
    "df.columns\n",
    "df.describe()\n",
    "df[\"band_gap\"]\n",
    "df.iloc[100]\n",
    "mask = df[\"volume\"]>=580\n",
    "df[mask]\n",
    "cleaned_df = df.drop([\"nsites\",\"space_group\",\"e_electronic\",\"e_total\"], axis=1)"
   ]
  },
  {
   "cell_type": "code",
   "execution_count": 38,
   "metadata": {},
   "outputs": [
    {
     "name": "stdout",
     "output_type": "stream",
     "text": [
      "class XRDPowderPattern(BaseFeaturizer):\n",
      "    \"\"\"\n",
      "    1D array representing powder diffraction of a structure as calculated by\n",
      "    pymatgen. The powder is smeared / normalized according to gaussian_kde.\n",
      "    \"\"\"\n",
      "\n",
      "    def __init__(self, two_theta_range=(0, 127), bw_method=0.05, pattern_length=None, **kwargs):\n",
      "        \"\"\"\n",
      "        Initialize the featurizer.\n",
      "\n",
      "        Args:\n",
      "            two_theta_range ([float of length 2]): Tuple for range of\n",
      "                two_thetas to calculate in degrees. Defaults to (0, 90). Set to\n",
      "                None if you want all diffracted beams within the limiting\n",
      "                sphere of radius 2 / wavelength.\n",
      "            bw_method (float): how much to smear the XRD pattern\n",
      "            pattern_length (float): length of final array; defaults to one value\n",
      "             per degree (i.e. two_theta_range + 1)\n",
      "            **kwargs: any other arguments to pass into pymatgen's XRDCalculator,\n",
      "                such as the type of radiation.\n",
      "        \"\"\"\n",
      "        self.two_theta_range = two_theta_range\n",
      "        self.bw_method = bw_method\n",
      "        self.pattern_length = pattern_length or two_theta_range[1] - two_theta_range[0] + 1\n",
      "        self.xrd_calc = XRDCalculator(**kwargs)\n",
      "\n",
      "    def featurize(self, strc):\n",
      "        pattern = self.xrd_calc.get_pattern(strc, two_theta_range=self.two_theta_range)\n",
      "        x, y = pattern.x, pattern.y\n",
      "        hist = []\n",
      "        for x1, y1 in zip(x, y):\n",
      "            num = int(y1)\n",
      "            hist += [x1] * num\n",
      "\n",
      "        kernel = gaussian_kde(hist, bw_method=self.bw_method)\n",
      "        x = np.linspace(self.two_theta_range[0], self.two_theta_range[1], self.pattern_length)\n",
      "        y = kernel(x)\n",
      "\n",
      "        return y\n",
      "\n",
      "    def feature_labels(self):\n",
      "        return [f\"xrd_{x}\" for x in range(self.pattern_length)]\n",
      "\n",
      "    def citations(self):\n",
      "        return [\n",
      "            \"@article{Ong2013, author = {Ong, Shyue Ping and Richards, \"\n",
      "            \"William Davidson and Jain, Anubhav and Hautier, \"\n",
      "            \"Geoffroy and Kocher, Michael and Cholia, Shreyas and Gunter, \"\n",
      "            \"Dan and Chevrier, Vincent L. and Persson, \"\n",
      "            \"Kristin A. and Ceder, Gerbrand}, \"\n",
      "            \"doi = {10.1016/j.commatsci.2012.10.028}, issn = {09270256}, \"\n",
      "            \"journal = {Computational Materials Science}, month = {feb}, \"\n",
      "            \"pages = {314--319}, \"\n",
      "            \"publisher = {Elsevier B.V.}, title = {{Python Materials \"\n",
      "            \"Genomics (pymatgen): A robust, open-source python \"\n",
      "            \"library for materials analysis}}, url = \"\n",
      "            \"{http://linkinghub.elsevier.com/retrieve/pii/S0927025612006295}, \"\n",
      "            \"volume = {68}, year = {2013} } \"\n",
      "        ]\n",
      "\n",
      "    def implementors(self):\n",
      "        return [\"Anubhav Jain\", \"Matthew Horton\"]\n",
      "\n"
     ]
    }
   ],
   "source": [
    "import inspect\n",
    "print(inspect.getsource(XRDPowderPattern))"
   ]
  },
  {
   "cell_type": "markdown",
   "metadata": {},
   "source": [
    "Matminer can turn materials objects - for example, a composition such as “Fe3O4” - into arrays of numbers representing things like average electronegativity or difference in ionic radii of the substituent elements\n",
    "\n",
    "https://hackingmaterials.lbl.gov/matminer/featurizer_summary.html"
   ]
  },
  {
   "cell_type": "code",
   "execution_count": 1,
   "metadata": {},
   "outputs": [
    {
     "name": "stderr",
     "output_type": "stream",
     "text": [
      "/Users/imanghamarian/anaconda3/lib/python3.11/site-packages/mp_api/client/mprester.py:227: UserWarning: mpcontribs-client not installed. Install the package to query MPContribs data, or construct pourbaix diagrams: 'pip install mpcontribs-client'\n",
      "  warnings.warn(\n"
     ]
    },
    {
     "ename": "NotImplementedError",
     "evalue": "\n            The MPRester().query method has been replaced with the MPRester().summary.search method.\n            Note this method also no longer supports direct MongoDB-type queries. For more information,\n            please see the new documentation.\n            ",
     "output_type": "error",
     "traceback": [
      "\u001b[0;31m---------------------------------------------------------------------------\u001b[0m",
      "\u001b[0;31mNotImplementedError\u001b[0m                       Traceback (most recent call last)",
      "\u001b[1;32m/opt/homebrew/Cellar/lammps/20230802/bin/Untitled-1.ipynb Cell 13\u001b[0m line \u001b[0;36m3\n\u001b[1;32m      <a href='vscode-notebook-cell:/opt/homebrew/Cellar/lammps/20230802/bin/Untitled-1.ipynb#X15sZmlsZQ%3D%3D?line=0'>1</a>\u001b[0m \u001b[39mfrom\u001b[39;00m \u001b[39mmatminer\u001b[39;00m\u001b[39m.\u001b[39;00m\u001b[39mdata_retrieval\u001b[39;00m\u001b[39m.\u001b[39;00m\u001b[39mretrieve_MP\u001b[39;00m \u001b[39mimport\u001b[39;00m MPDataRetrieval\n\u001b[1;32m      <a href='vscode-notebook-cell:/opt/homebrew/Cellar/lammps/20230802/bin/Untitled-1.ipynb#X15sZmlsZQ%3D%3D?line=1'>2</a>\u001b[0m \u001b[39m#mpdr = MPDataRetrieval(\"qntWmNDDQwcytAmE3zjs0Ps2UTSi0xRi\")\u001b[39;00m\n\u001b[0;32m----> <a href='vscode-notebook-cell:/opt/homebrew/Cellar/lammps/20230802/bin/Untitled-1.ipynb#X15sZmlsZQ%3D%3D?line=2'>3</a>\u001b[0m df_mp \u001b[39m=\u001b[39m MPDataRetrieval()\u001b[39m.\u001b[39mget_dataframe(criteria\u001b[39m=\u001b[39m\u001b[39m'\u001b[39m\u001b[39mSi\u001b[39m\u001b[39m'\u001b[39m, properties\u001b[39m=\u001b[39m[\u001b[39m'\u001b[39m\u001b[39mband_gap\u001b[39m\u001b[39m'\u001b[39m])\n",
      "File \u001b[0;32m~/anaconda3/lib/python3.11/site-packages/matminer/data_retrieval/retrieve_MP.py:59\u001b[0m, in \u001b[0;36mMPDataRetrieval.get_dataframe\u001b[0;34m(self, criteria, properties, index_mpid, **kwargs)\u001b[0m\n\u001b[1;32m     42\u001b[0m \u001b[39mdef\u001b[39;00m \u001b[39mget_dataframe\u001b[39m(\u001b[39mself\u001b[39m, criteria, properties, index_mpid\u001b[39m=\u001b[39m\u001b[39mTrue\u001b[39;00m, \u001b[39m*\u001b[39m\u001b[39m*\u001b[39mkwargs):\n\u001b[1;32m     43\u001b[0m \u001b[39m    \u001b[39m\u001b[39m\"\"\"\u001b[39;00m\n\u001b[1;32m     44\u001b[0m \u001b[39m    Gets data from MP in a dataframe format. See api_link for more details.\u001b[39;00m\n\u001b[1;32m     45\u001b[0m \n\u001b[0;32m   (...)\u001b[0m\n\u001b[1;32m     57\u001b[0m \u001b[39m    Returns (pandas.Dataframe):\u001b[39;00m\n\u001b[1;32m     58\u001b[0m \u001b[39m    \"\"\"\u001b[39;00m\n\u001b[0;32m---> 59\u001b[0m     data \u001b[39m=\u001b[39m \u001b[39mself\u001b[39m\u001b[39m.\u001b[39mget_data(criteria\u001b[39m=\u001b[39mcriteria, properties\u001b[39m=\u001b[39mproperties, index_mpid\u001b[39m=\u001b[39mindex_mpid, \u001b[39m*\u001b[39m\u001b[39m*\u001b[39mkwargs)\n\u001b[1;32m     60\u001b[0m     df \u001b[39m=\u001b[39m pd\u001b[39m.\u001b[39mDataFrame(data, columns\u001b[39m=\u001b[39mproperties)\n\u001b[1;32m     61\u001b[0m     \u001b[39mfor\u001b[39;00m prop \u001b[39min\u001b[39;00m [\u001b[39m\"\u001b[39m\u001b[39mdos\u001b[39m\u001b[39m\"\u001b[39m, \u001b[39m\"\u001b[39m\u001b[39mphonon_dos\u001b[39m\u001b[39m\"\u001b[39m, \u001b[39m\"\u001b[39m\u001b[39mphonon_bandstructure\u001b[39m\u001b[39m\"\u001b[39m, \u001b[39m\"\u001b[39m\u001b[39mphonon_ddb\u001b[39m\u001b[39m\"\u001b[39m]:\n",
      "File \u001b[0;32m~/anaconda3/lib/python3.11/site-packages/matminer/data_retrieval/retrieve_MP.py:102\u001b[0m, in \u001b[0;36mMPDataRetrieval.get_data\u001b[0;34m(self, criteria, properties, mp_decode, index_mpid)\u001b[0m\n\u001b[1;32m    100\u001b[0m \u001b[39mif\u001b[39;00m index_mpid \u001b[39mand\u001b[39;00m \u001b[39m\"\u001b[39m\u001b[39mmaterial_id\u001b[39m\u001b[39m\"\u001b[39m \u001b[39mnot\u001b[39;00m \u001b[39min\u001b[39;00m properties:\n\u001b[1;32m    101\u001b[0m     properties\u001b[39m.\u001b[39mappend(\u001b[39m\"\u001b[39m\u001b[39mmaterial_id\u001b[39m\u001b[39m\"\u001b[39m)\n\u001b[0;32m--> 102\u001b[0m data \u001b[39m=\u001b[39m \u001b[39mself\u001b[39m\u001b[39m.\u001b[39mmprester\u001b[39m.\u001b[39mquery(criteria, properties, mp_decode\u001b[39m=\u001b[39mmp_decode)\n\u001b[1;32m    103\u001b[0m \u001b[39mreturn\u001b[39;00m data\n",
      "File \u001b[0;32m~/anaconda3/lib/python3.11/site-packages/mp_api/client/mprester.py:1442\u001b[0m, in \u001b[0;36mMPRester.query\u001b[0;34m(*args, **kwargs)\u001b[0m\n\u001b[1;32m   1437\u001b[0m \u001b[39mdef\u001b[39;00m \u001b[39mquery\u001b[39m(\u001b[39m*\u001b[39margs, \u001b[39m*\u001b[39m\u001b[39m*\u001b[39mkwargs):\n\u001b[1;32m   1438\u001b[0m \u001b[39m    \u001b[39m\u001b[39m\"\"\"The MPRester().query method has been replaced with the MPRester().summary.search method.\u001b[39;00m\n\u001b[1;32m   1439\u001b[0m \u001b[39m    Note this method also no longer supports direct MongoDB-type queries. For more information,\u001b[39;00m\n\u001b[1;32m   1440\u001b[0m \u001b[39m    please see the new documentation.\u001b[39;00m\n\u001b[1;32m   1441\u001b[0m \u001b[39m    \"\"\"\u001b[39;00m\n\u001b[0;32m-> 1442\u001b[0m     \u001b[39mraise\u001b[39;00m \u001b[39mNotImplementedError\u001b[39;00m(\n\u001b[1;32m   1443\u001b[0m \u001b[39m        \u001b[39m\u001b[39m\"\"\"\u001b[39;00m\n\u001b[1;32m   1444\u001b[0m \u001b[39m        The MPRester().query method has been replaced with the MPRester().summary.search method.\u001b[39;00m\n\u001b[1;32m   1445\u001b[0m \u001b[39m        Note this method also no longer supports direct MongoDB-type queries. For more information,\u001b[39;00m\n\u001b[1;32m   1446\u001b[0m \u001b[39m        please see the new documentation.\u001b[39;00m\n\u001b[1;32m   1447\u001b[0m \u001b[39m        \"\"\"\u001b[39;00m\n\u001b[1;32m   1448\u001b[0m     )\n",
      "\u001b[0;31mNotImplementedError\u001b[0m: \n            The MPRester().query method has been replaced with the MPRester().summary.search method.\n            Note this method also no longer supports direct MongoDB-type queries. For more information,\n            please see the new documentation.\n            "
     ]
    }
   ],
   "source": [
    "\n",
    "from matminer.data_retrieval.retrieve_MP import MPDataRetrieval\n",
    "#mpdr = MPDataRetrieval(\"qntWmNDDQwcytAmE3zjs0Ps2UTSi0xRi\")\n",
    "df_mp = MPDataRetrieval().get_dataframe(criteria='Si', properties=['band_gap'])"
   ]
  },
  {
   "cell_type": "code",
   "execution_count": 199,
   "metadata": {},
   "outputs": [
    {
     "name": "stdout",
     "output_type": "stream",
     "text": [
      "Fetching jarvis_dft_3d.json.gz from https://ndownloader.figshare.com/files/13376507 to /Users/imanghamarian/anaconda3/lib/python3.11/site-packages/matminer/datasets/jarvis_dft_3d.json.gz\n"
     ]
    },
    {
     "name": "stderr",
     "output_type": "stream",
     "text": [
      "Fetching https://ndownloader.figshare.com/files/13376507 in MB: 30.670848MB [00:00, 538.62MB/s]                \n"
     ]
    }
   ],
   "source": [
    "from matminer.datasets import load_dataset\n",
    "\n",
    "df = load_dataset(\"jarvis_dft_3d\")\n",
    "\n"
   ]
  },
  {
   "cell_type": "code",
   "execution_count": 3,
   "metadata": {},
   "outputs": [
    {
     "name": "stderr",
     "output_type": "stream",
     "text": [
      "/Users/imanghamarian/anaconda3/lib/python3.11/site-packages/mp_api/client/mprester.py:227: UserWarning: mpcontribs-client not installed. Install the package to query MPContribs data, or construct pourbaix diagrams: 'pip install mpcontribs-client'\n",
      "  warnings.warn(\n",
      "/var/folders/6j/dx0q3r9n76g44m02wmqqd3zm0000gr/T/ipykernel_39648/3404341737.py:25: DeprecationWarning: Accessing summary data through MPRester.summary is deprecated. Please use MPRester.materials.summary instead.\n",
      "  docs = mpr.summary.search(\n"
     ]
    },
    {
     "data": {
      "application/vnd.jupyter.widget-view+json": {
       "model_id": "668ced227f68488dbd343f4a3a9cdd71",
       "version_major": 2,
       "version_minor": 0
      },
      "text/plain": [
       "Retrieving SummaryDoc documents:   0%|          | 0/6 [00:00<?, ?it/s]"
      ]
     },
     "metadata": {},
     "output_type": "display_data"
    },
    {
     "name": "stdout",
     "output_type": "stream",
     "text": [
      "[\u001b[4m\u001b[1mMPDataDoc<SummaryDoc>\u001b[0;0m\u001b[0;0m(\n",
      "\u001b[1mmaterial_id\u001b[0;0m=MPID(mp-556961),\n",
      "\u001b[1mband_gap\u001b[0;0m=5.736,\n",
      "\u001b[1mfields_not_requested\u001b[0;0m=['builder_meta', 'nsites', 'elements', 'nelements', 'composition', 'composition_reduced', 'formula_pretty', 'formula_anonymous', 'chemsys', 'volume', 'density', 'density_atomic', 'symmetry', 'property_name', 'deprecated', 'deprecation_reasons', 'last_updated', 'origins', 'warnings', 'structure', 'task_ids', 'uncorrected_energy_per_atom', 'energy_per_atom', 'formation_energy_per_atom', 'energy_above_hull', 'is_stable', 'equilibrium_reaction_energy_per_atom', 'decomposes_to', 'xas', 'grain_boundaries', 'cbm', 'vbm', 'efermi', 'is_gap_direct', 'is_metal', 'es_source_calc_id', 'bandstructure', 'dos', 'dos_energy_up', 'dos_energy_down', 'is_magnetic', 'ordering', 'total_magnetization', 'total_magnetization_normalized_vol', 'total_magnetization_normalized_formula_units', 'num_magnetic_sites', 'num_unique_magnetic_sites', 'types_of_magnetic_species', 'bulk_modulus', 'shear_modulus', 'universal_anisotropy', 'homogeneous_poisson', 'e_total', 'e_ionic', 'e_electronic', 'n', 'e_ij_max', 'weighted_surface_energy_EV_PER_ANG2', 'weighted_surface_energy', 'weighted_work_function', 'surface_anisotropy', 'shape_factor', 'has_reconstructed', 'possible_species', 'has_props', 'theoretical', 'database_IDs']\n",
      "), \u001b[4m\u001b[1mMPDataDoc<SummaryDoc>\u001b[0;0m\u001b[0;0m(\n",
      "\u001b[1mmaterial_id\u001b[0;0m=MPID(mp-557837),\n",
      "\u001b[1mband_gap\u001b[0;0m=5.6449,\n",
      "\u001b[1mfields_not_requested\u001b[0;0m=['builder_meta', 'nsites', 'elements', 'nelements', 'composition', 'composition_reduced', 'formula_pretty', 'formula_anonymous', 'chemsys', 'volume', 'density', 'density_atomic', 'symmetry', 'property_name', 'deprecated', 'deprecation_reasons', 'last_updated', 'origins', 'warnings', 'structure', 'task_ids', 'uncorrected_energy_per_atom', 'energy_per_atom', 'formation_energy_per_atom', 'energy_above_hull', 'is_stable', 'equilibrium_reaction_energy_per_atom', 'decomposes_to', 'xas', 'grain_boundaries', 'cbm', 'vbm', 'efermi', 'is_gap_direct', 'is_metal', 'es_source_calc_id', 'bandstructure', 'dos', 'dos_energy_up', 'dos_energy_down', 'is_magnetic', 'ordering', 'total_magnetization', 'total_magnetization_normalized_vol', 'total_magnetization_normalized_formula_units', 'num_magnetic_sites', 'num_unique_magnetic_sites', 'types_of_magnetic_species', 'bulk_modulus', 'shear_modulus', 'universal_anisotropy', 'homogeneous_poisson', 'e_total', 'e_ionic', 'e_electronic', 'n', 'e_ij_max', 'weighted_surface_energy_EV_PER_ANG2', 'weighted_surface_energy', 'weighted_work_function', 'surface_anisotropy', 'shape_factor', 'has_reconstructed', 'possible_species', 'has_props', 'theoretical', 'database_IDs']\n",
      "), \u001b[4m\u001b[1mMPDataDoc<SummaryDoc>\u001b[0;0m\u001b[0;0m(\n",
      "\u001b[1mmaterial_id\u001b[0;0m=MPID(mp-6945),\n",
      "\u001b[1mband_gap\u001b[0;0m=5.503699999999999,\n",
      "\u001b[1mfields_not_requested\u001b[0;0m=['builder_meta', 'nsites', 'elements', 'nelements', 'composition', 'composition_reduced', 'formula_pretty', 'formula_anonymous', 'chemsys', 'volume', 'density', 'density_atomic', 'symmetry', 'property_name', 'deprecated', 'deprecation_reasons', 'last_updated', 'origins', 'warnings', 'structure', 'task_ids', 'uncorrected_energy_per_atom', 'energy_per_atom', 'formation_energy_per_atom', 'energy_above_hull', 'is_stable', 'equilibrium_reaction_energy_per_atom', 'decomposes_to', 'xas', 'grain_boundaries', 'cbm', 'vbm', 'efermi', 'is_gap_direct', 'is_metal', 'es_source_calc_id', 'bandstructure', 'dos', 'dos_energy_up', 'dos_energy_down', 'is_magnetic', 'ordering', 'total_magnetization', 'total_magnetization_normalized_vol', 'total_magnetization_normalized_formula_units', 'num_magnetic_sites', 'num_unique_magnetic_sites', 'types_of_magnetic_species', 'bulk_modulus', 'shear_modulus', 'universal_anisotropy', 'homogeneous_poisson', 'e_total', 'e_ionic', 'e_electronic', 'n', 'e_ij_max', 'weighted_surface_energy_EV_PER_ANG2', 'weighted_surface_energy', 'weighted_work_function', 'surface_anisotropy', 'shape_factor', 'has_reconstructed', 'possible_species', 'has_props', 'theoretical', 'database_IDs']\n",
      "), \u001b[4m\u001b[1mMPDataDoc<SummaryDoc>\u001b[0;0m\u001b[0;0m(\n",
      "\u001b[1mmaterial_id\u001b[0;0m=MPID(mp-556788),\n",
      "\u001b[1mband_gap\u001b[0;0m=4.7965,\n",
      "\u001b[1mfields_not_requested\u001b[0;0m=['builder_meta', 'nsites', 'elements', 'nelements', 'composition', 'composition_reduced', 'formula_pretty', 'formula_anonymous', 'chemsys', 'volume', 'density', 'density_atomic', 'symmetry', 'property_name', 'deprecated', 'deprecation_reasons', 'last_updated', 'origins', 'warnings', 'structure', 'task_ids', 'uncorrected_energy_per_atom', 'energy_per_atom', 'formation_energy_per_atom', 'energy_above_hull', 'is_stable', 'equilibrium_reaction_energy_per_atom', 'decomposes_to', 'xas', 'grain_boundaries', 'cbm', 'vbm', 'efermi', 'is_gap_direct', 'is_metal', 'es_source_calc_id', 'bandstructure', 'dos', 'dos_energy_up', 'dos_energy_down', 'is_magnetic', 'ordering', 'total_magnetization', 'total_magnetization_normalized_vol', 'total_magnetization_normalized_formula_units', 'num_magnetic_sites', 'num_unique_magnetic_sites', 'types_of_magnetic_species', 'bulk_modulus', 'shear_modulus', 'universal_anisotropy', 'homogeneous_poisson', 'e_total', 'e_ionic', 'e_electronic', 'n', 'e_ij_max', 'weighted_surface_energy_EV_PER_ANG2', 'weighted_surface_energy', 'weighted_work_function', 'surface_anisotropy', 'shape_factor', 'has_reconstructed', 'possible_species', 'has_props', 'theoretical', 'database_IDs']\n",
      "), \u001b[4m\u001b[1mMPDataDoc<SummaryDoc>\u001b[0;0m\u001b[0;0m(\n",
      "\u001b[1mmaterial_id\u001b[0;0m=MPID(mp-7029),\n",
      "\u001b[1mband_gap\u001b[0;0m=5.7943999999999996,\n",
      "\u001b[1mfields_not_requested\u001b[0;0m=['builder_meta', 'nsites', 'elements', 'nelements', 'composition', 'composition_reduced', 'formula_pretty', 'formula_anonymous', 'chemsys', 'volume', 'density', 'density_atomic', 'symmetry', 'property_name', 'deprecated', 'deprecation_reasons', 'last_updated', 'origins', 'warnings', 'structure', 'task_ids', 'uncorrected_energy_per_atom', 'energy_per_atom', 'formation_energy_per_atom', 'energy_above_hull', 'is_stable', 'equilibrium_reaction_energy_per_atom', 'decomposes_to', 'xas', 'grain_boundaries', 'cbm', 'vbm', 'efermi', 'is_gap_direct', 'is_metal', 'es_source_calc_id', 'bandstructure', 'dos', 'dos_energy_up', 'dos_energy_down', 'is_magnetic', 'ordering', 'total_magnetization', 'total_magnetization_normalized_vol', 'total_magnetization_normalized_formula_units', 'num_magnetic_sites', 'num_unique_magnetic_sites', 'types_of_magnetic_species', 'bulk_modulus', 'shear_modulus', 'universal_anisotropy', 'homogeneous_poisson', 'e_total', 'e_ionic', 'e_electronic', 'n', 'e_ij_max', 'weighted_surface_energy_EV_PER_ANG2', 'weighted_surface_energy', 'weighted_work_function', 'surface_anisotropy', 'shape_factor', 'has_reconstructed', 'possible_species', 'has_props', 'theoretical', 'database_IDs']\n",
      "), \u001b[4m\u001b[1mMPDataDoc<SummaryDoc>\u001b[0;0m\u001b[0;0m(\n",
      "\u001b[1mmaterial_id\u001b[0;0m=MPID(mp-8352),\n",
      "\u001b[1mband_gap\u001b[0;0m=5.3649000000000004,\n",
      "\u001b[1mfields_not_requested\u001b[0;0m=['builder_meta', 'nsites', 'elements', 'nelements', 'composition', 'composition_reduced', 'formula_pretty', 'formula_anonymous', 'chemsys', 'volume', 'density', 'density_atomic', 'symmetry', 'property_name', 'deprecated', 'deprecation_reasons', 'last_updated', 'origins', 'warnings', 'structure', 'task_ids', 'uncorrected_energy_per_atom', 'energy_per_atom', 'formation_energy_per_atom', 'energy_above_hull', 'is_stable', 'equilibrium_reaction_energy_per_atom', 'decomposes_to', 'xas', 'grain_boundaries', 'cbm', 'vbm', 'efermi', 'is_gap_direct', 'is_metal', 'es_source_calc_id', 'bandstructure', 'dos', 'dos_energy_up', 'dos_energy_down', 'is_magnetic', 'ordering', 'total_magnetization', 'total_magnetization_normalized_vol', 'total_magnetization_normalized_formula_units', 'num_magnetic_sites', 'num_unique_magnetic_sites', 'types_of_magnetic_species', 'bulk_modulus', 'shear_modulus', 'universal_anisotropy', 'homogeneous_poisson', 'e_total', 'e_ionic', 'e_electronic', 'n', 'e_ij_max', 'weighted_surface_energy_EV_PER_ANG2', 'weighted_surface_energy', 'weighted_work_function', 'surface_anisotropy', 'shape_factor', 'has_reconstructed', 'possible_species', 'has_props', 'theoretical', 'database_IDs']\n",
      ")]\n",
      "{MPID(mp-556961): 5.736, MPID(mp-557837): 5.6449, MPID(mp-6945): 5.503699999999999, MPID(mp-556788): 4.7965, MPID(mp-7029): 5.7943999999999996, MPID(mp-8352): 5.3649000000000004}\n"
     ]
    }
   ],
   "source": [
    "\"\"\"\n",
    "with MPRester(\"qntWmNDDQwcytAmE3zjs0Ps2UTSi0xRi\") as mpr:\n",
    "    docs = mpr.summary.search(elements=[\"Al\"],crystal_system= \"Cubic\",\n",
    "                               fields=[\"material_id\", \n",
    "                                      \"band_gap\", \n",
    "                                      \"volume\"])\n",
    "\"\"\"\n",
    "\"\"\"\n",
    "with MPRester(\"your_api_key_here\") as mpr:\n",
    "    docs = mpr.summary.search(has_props=[\"dielectric\", \"dos\"], \n",
    "                              fields=[\"material_id\"])\n",
    "\n",
    "with MPRester(\"your_api_key_here\") as mpr:\n",
    "    docs = mpr.summary.search(material_ids=[\"mp-149\", \"mp-13\", \"mp-22526\"])\n",
    "\"\"\"\n",
    "\"\"\"\"\n",
    "with MPRester(\"qntWmNDDQwcytAmE3zjs0Ps2UTSi0xRi\") as mpr:\n",
    "        docs = mpr.materials.search(elements=[\"Si\", \"O\"], \n",
    "                                \n",
    "                                fields=[\"initial_structures\"])\n",
    "\"\"\"\"\"\n",
    "from mp_api.client import MPRester\n",
    "\n",
    "with MPRester(\"qntWmNDDQwcytAmE3zjs0Ps2UTSi0xRi\") as mpr:\n",
    "    docs = mpr.summary.search(\n",
    "        chemsys=\"Si-O\",elastic_anisotropy=[1,6] , fields=[\"material_id\", \"band_gap\"]\n",
    "    )\n",
    "    mpid_bgap_dict = {doc.material_id: doc.band_gap for doc in docs}\n",
    "print (docs)                                             \n",
    "#example_doc = docs[0]\n",
    "#initial_structures = example_doc.initial_structures\n",
    "#example_doc = docs[5]\n",
    "print(mpid_bgap_dict)\n",
    "#mpid = example_doc.material_id\n",
    "#print(mpid)\n",
    "#formula = example_doc.formula_pretty\n",
    "#print(formula)\n",
    "#list_of_available_fields = mpr.summary.available_fields\n",
    "#print(list_of_available_fields)"
   ]
  },
  {
   "cell_type": "code",
   "execution_count": 1,
   "metadata": {},
   "outputs": [
    {
     "name": "stderr",
     "output_type": "stream",
     "text": [
      "/Users/imanghamarian/anaconda3/lib/python3.11/site-packages/mp_api/client/mprester.py:227: UserWarning: mpcontribs-client not installed. Install the package to query MPContribs data, or construct pourbaix diagrams: 'pip install mpcontribs-client'\n",
      "  warnings.warn(\n",
      "/var/folders/6j/dx0q3r9n76g44m02wmqqd3zm0000gr/T/ipykernel_74651/3563383384.py:11: DeprecationWarning: Accessing summary data through MPRester.summary is deprecated. Please use MPRester.materials.summary instead.\n",
      "  docs = mpr.summary.search(elements=[\"C\"],num_elements=[1,1],\n"
     ]
    },
    {
     "data": {
      "application/vnd.jupyter.widget-view+json": {
       "model_id": "5049f4e163ef417db1174f43f2bc4cdf",
       "version_major": 2,
       "version_minor": 0
      },
      "text/plain": [
       "Retrieving SummaryDoc documents:   0%|          | 0/62 [00:00<?, ?it/s]"
      ]
     },
     "metadata": {},
     "output_type": "display_data"
    },
    {
     "data": {
      "application/vnd.jupyter.widget-view+json": {
       "model_id": "330487f18f75476584bd1090e827fa86",
       "version_major": 2,
       "version_minor": 0
      },
      "text/plain": [
       "XRDPowderPattern:   0%|          | 0/62 [00:00<?, ?it/s]"
      ]
     },
     "metadata": {},
     "output_type": "display_data"
    },
    {
     "name": "stdout",
     "output_type": "stream",
     "text": [
      "4096\n",
      "Epoch 1 loss: 1.228\n",
      "Epoch 2 loss: 1.287\n",
      "Epoch 3 loss: 0.776\n",
      "Epoch 4 loss: 1.950\n",
      "Epoch 5 loss: 0.921\n",
      "Epoch 6 loss: 0.858\n",
      "Epoch 7 loss: 0.798\n",
      "Epoch 8 loss: 0.822\n",
      "Epoch 9 loss: 0.812\n",
      "Epoch 10 loss: 0.863\n",
      "Epoch 11 loss: 1.103\n",
      "Epoch 12 loss: 0.991\n",
      "Epoch 13 loss: 0.998\n",
      "Epoch 14 loss: 0.990\n",
      "Epoch 15 loss: 0.997\n",
      "Epoch 16 loss: 0.989\n",
      "Epoch 17 loss: 0.989\n",
      "Epoch 18 loss: 0.987\n",
      "Epoch 19 loss: 0.985\n",
      "Epoch 20 loss: 0.984\n",
      "Epoch 21 loss: 1.001\n",
      "Epoch 22 loss: 0.944\n",
      "Finished Training\n"
     ]
    }
   ],
   "source": [
    "# USING ONE DIMONSION CNN for XRD PATTERN \n",
    "from mp_api.client import MPRester\n",
    "import pandas as pd\n",
    "import numpy as np\n",
    "from matminer.featurizers.structure.misc import XRDPowderPattern\n",
    "from sklearn.ensemble import RandomForestRegressor\n",
    "import matplotlib.pyplot as plt\n",
    "from matminer.featurizers.structure.misc import StructureComposition\n",
    "\n",
    "with MPRester(\"qntWmNDDQwcytAmE3zjs0Ps2UTSi0xRi\") as mpr:\n",
    "    docs = mpr.summary.search(elements=[\"C\"],num_elements=[1,1],\n",
    "                               fields=[\"material_id\", \n",
    "                                      \"energy_per_atom\", \n",
    "                                      \"structure\"])\n",
    "mpids = [doc.material_id for doc in docs]\n",
    "mpepa = [doc.energy_per_atom for doc in docs]\n",
    "mpstruc = [doc.structure for doc in docs]\n",
    "\"\"\"\n",
    "\n",
    "with MPRester(\"your_api_key_here\") as mpr:\n",
    "    docs = mpr.summary.search(has_props=[\"dielectric\", \"dos\"], \n",
    "                              fields=[\"material_id\"])\n",
    "\n",
    "with MPRester(\"your_api_key_here\") as mpr:\n",
    "    docs = mpr.summary.search(material_ids=[\"mp-149\", \"mp-13\", \"mp-22526\"])\n",
    "\"\"\"\n",
    "\"\"\"\"\n",
    "with MPRester(\"qntWmNDDQwcytAmE3zjs0Ps2UTSi0xRi\") as mpr:\n",
    "        docs = mpr.materials.search(elements=[\"Si\", \"O\"], \n",
    "                                \n",
    "                                fields=[\"initial_structures\"])\n",
    "\"\"\"\"\"\n",
    "\"\"\"\n",
    "from mp_api.client import MPRester\n",
    "\n",
    "with MPRester(\"qntWmNDDQwcytAmE3zjs0Ps2UTSi0xRi\") as mpr:\n",
    "    docs = mpr.summary.search(\n",
    "        chemsys=\"Si-O\",elastic_anisotropy=[1,6] , fields=[\"material_id\", \"band_gap\"]\n",
    "    )\n",
    "    mpid_bgap_dict = {doc.material_id: doc.band_gap for doc in docs}\n",
    "\"\"\"\n",
    "dfc = pd.DataFrame({'material_id': mpids, 'energy_per_atom': mpepa, 'structure': mpstruc})\n",
    "\n",
    "xrd = XRDPowderPattern()\n",
    "\n",
    "#This line returns the labels of the features that /\n",
    "# the XRDPowderPattern featurizer generates.\n",
    "xrd.feature_labels()\n",
    "#This line applies the XRDPowderPattern featurizer to /\n",
    "# the 'structure' column of the DataFrame dfc, adding new columns for each feature.\n",
    "dfc = xrd.featurize_dataframe (dfc, \"structure\")\n",
    "y = dfc['energy_per_atom'].values\n",
    "\n",
    "x = dfc.drop([\"material_id\", \"energy_per_atom\", \"structure\"], axis=1)\n",
    "\n",
    "import torch\n",
    "import torch.nn as nn\n",
    "import torch.optim as optim\n",
    "import torch.nn.functional as F\n",
    "\n",
    "# Reshape input data\n",
    "x = np.expand_dims(x, axis=1)  # Add an extra dimension for the single channel\n",
    "x = torch.from_numpy(x).float()  # Convert to PyTorch tensor\n",
    "y = torch.from_numpy(y).float().unsqueeze(1)\n",
    "\n",
    "# Normalize the data\n",
    "x_mean = x.mean()\n",
    "x_std = x.std()\n",
    "x = (x - x_mean) / x_std\n",
    "\n",
    "y_mean = y.mean()\n",
    "y_std = y.std()\n",
    "y = (y - y_mean) / y_std\n",
    "\n",
    "# Define the model\n",
    "class Net(nn.Module):\n",
    "    def __init__(self):\n",
    "        super(Net, self).__init__()\n",
    "        self.conv1 = nn.Conv1d(1, 64, 3, padding=1)\n",
    "        self.pool = nn.MaxPool1d(2)\n",
    "        # Get the shape of the input data\n",
    "        input_shape = x.shape[-1]\n",
    "\n",
    "        # Calculate the number of flat features after the conv and pool layers\n",
    "        num_features_after_conv_and_pool = self.num_flat_features(self.pool(self.conv1(torch.randn(1,1,input_shape))))\n",
    "        print(num_features_after_conv_and_pool)\n",
    "        # Use this number for the input features of the fully connected layer\n",
    "        self.fc1 = nn.Linear(num_features_after_conv_and_pool, 64)\n",
    "        self.fc2 = nn.Linear(64, 1)\n",
    "\n",
    "    def forward(self, x):\n",
    "         x = self.conv1(x)\n",
    "         x = self.pool(x)\n",
    "         x = x.view(-1, self.num_flat_features(x))  # Flatten the tensor\n",
    "         x = F.relu(self.fc1(x))\n",
    "         x = self.fc2(x)\n",
    "         return x\n",
    "\n",
    "    def num_flat_features(self, x):\n",
    "        size = x.size()[1:]  # all dimensions except the batch dimension\n",
    "        num_features = 1\n",
    "        for s in size:\n",
    "            num_features *= s\n",
    "        return num_features\n",
    "\n",
    "# Initialize the model, loss function and optimizer\n",
    "model = Net()\n",
    "criterion = nn.MSELoss()\n",
    "optimizer = optim.SGD(model.parameters(), lr=0.01)\n",
    "\n",
    "# Train the model\n",
    "for epoch in range(22):  # Loop over the dataset multiple times\n",
    "    running_loss = 0.0\n",
    "    for i in range(len(x)):\n",
    "        # Zero the parameter gradients\n",
    "        optimizer.zero_grad()\n",
    "\n",
    "        # Forward + backward + optimize\n",
    "        outputs = model(x[i].unsqueeze(0))\n",
    "        loss = criterion(outputs, y[i].unsqueeze(0))\n",
    "        loss.backward()\n",
    "        optimizer.step()\n",
    "\n",
    "        # Print statistics\n",
    "        running_loss += loss.item()\n",
    "    print('Epoch %d loss: %.3f' % (epoch + 1, running_loss / len(x)))\n",
    "\n",
    "print('Finished Training')\n",
    "\n",
    "# Predict\n",
    "y_pred = model(x)"
   ]
  }
 ],
 "metadata": {
  "kernelspec": {
   "display_name": "base",
   "language": "python",
   "name": "python3"
  },
  "language_info": {
   "codemirror_mode": {
    "name": "ipython",
    "version": 3
   },
   "file_extension": ".py",
   "mimetype": "text/x-python",
   "name": "python",
   "nbconvert_exporter": "python",
   "pygments_lexer": "ipython3",
   "version": "3.11.5"
  }
 },
 "nbformat": 4,
 "nbformat_minor": 2
}
